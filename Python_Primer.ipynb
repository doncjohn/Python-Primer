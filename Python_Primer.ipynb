{
  "nbformat": 4,
  "nbformat_minor": 0,
  "metadata": {
    "colab": {
      "provenance": []
    },
    "kernelspec": {
      "name": "python3",
      "display_name": "Python 3"
    }
  },
  "cells": [
    {
      "cell_type": "markdown",
      "metadata": {
        "id": "OlJni6x1ZZ_x"
      },
      "source": [
        "# Print Function\n",
        "\n",
        "The `print()` function is commonly used for outputting text to the console."
      ]
    },
    {
      "cell_type": "code",
      "metadata": {
        "id": "fG5hDo1oZm3l",
        "colab": {
          "base_uri": "https://localhost:8080/"
        },
        "outputId": "4c14e716-e667-4ba7-975a-a2f5ded5b4c9"
      },
      "source": [
        "print(\"Hello World\")"
      ],
      "execution_count": null,
      "outputs": [
        {
          "output_type": "stream",
          "name": "stdout",
          "text": [
            "Hello World\n"
          ]
        }
      ]
    },
    {
      "cell_type": "markdown",
      "source": [
        "Printing Statements with Escape Sequence `\\n`\tNew Line, `\\t`\tTab, `\\b`\tBackspace"
      ],
      "metadata": {
        "id": "qoKIHs_1YhH0"
      }
    },
    {
      "cell_type": "code",
      "source": [
        "text = 'Hello Don,\\nHow are you'\n",
        "print(text)"
      ],
      "metadata": {
        "colab": {
          "base_uri": "https://localhost:8080/"
        },
        "id": "IneQ2AGVX161",
        "outputId": "74b527a4-ada3-4de4-d2a0-0eef47cda071"
      },
      "execution_count": null,
      "outputs": [
        {
          "output_type": "stream",
          "name": "stdout",
          "text": [
            "Hello Don,\n",
            "How are you\n"
          ]
        }
      ]
    },
    {
      "cell_type": "markdown",
      "metadata": {
        "id": "QSj8HGBHcYAk"
      },
      "source": [
        "## Handling User input"
      ]
    },
    {
      "cell_type": "code",
      "metadata": {
        "id": "4GSIEJ44ccqk",
        "colab": {
          "base_uri": "https://localhost:8080/"
        },
        "outputId": "ddadc270-1841-45c1-aba3-9e50b8a6c3e9"
      },
      "source": [
        "name = input('What is your name? ')\n",
        "print('Hi '+ name)"
      ],
      "execution_count": null,
      "outputs": [
        {
          "output_type": "stream",
          "name": "stdout",
          "text": [
            "What is your name? Don\n",
            "Hi Don\n"
          ]
        }
      ]
    },
    {
      "cell_type": "markdown",
      "metadata": {
        "id": "tDVd-W7ibERh"
      },
      "source": [
        "#Variables and Data Types\n",
        "\n",
        "Variables are used to store data. Python has various data types like integers, floats, strings, and booleans."
      ]
    },
    {
      "cell_type": "markdown",
      "metadata": {
        "id": "39a492ef"
      },
      "source": [
        "## Numeric Types"
      ]
    },
    {
      "cell_type": "markdown",
      "metadata": {
        "id": "e17778ff"
      },
      "source": [
        "### int\n",
        "Integer numbers (e.g., 5, -3)"
      ]
    },
    {
      "cell_type": "code",
      "execution_count": null,
      "metadata": {
        "id": "811b76e2",
        "colab": {
          "base_uri": "https://localhost:8080/"
        },
        "outputId": "d4f95b4a-e127-4c56-c2e9-963ab7edaa8b"
      },
      "outputs": [
        {
          "output_type": "stream",
          "name": "stdout",
          "text": [
            "<class 'int'> 5\n"
          ]
        }
      ],
      "source": [
        "x = 5\n",
        "print(type(x), x)"
      ]
    },
    {
      "cell_type": "markdown",
      "metadata": {
        "id": "b405394e"
      },
      "source": [
        "### float\n",
        "Floating-point numbers (e.g., 3.14, -0.001)"
      ]
    },
    {
      "cell_type": "code",
      "execution_count": null,
      "metadata": {
        "id": "d41fc593",
        "colab": {
          "base_uri": "https://localhost:8080/"
        },
        "outputId": "fa942d71-113e-4fe4-d16f-d92bc85e8ec7"
      },
      "outputs": [
        {
          "output_type": "stream",
          "name": "stdout",
          "text": [
            "<class 'float'> 3.14\n"
          ]
        }
      ],
      "source": [
        "x = 3.14\n",
        "print(type(x), x)"
      ]
    },
    {
      "cell_type": "markdown",
      "metadata": {
        "id": "a7a9c109"
      },
      "source": [
        "### complex\n",
        "Complex numbers (e.g., 1 + 2j)"
      ]
    },
    {
      "cell_type": "code",
      "execution_count": null,
      "metadata": {
        "id": "1ba4210d",
        "colab": {
          "base_uri": "https://localhost:8080/"
        },
        "outputId": "5ea86fcb-3d64-4387-e526-b5ff0f3163a2"
      },
      "outputs": [
        {
          "output_type": "stream",
          "name": "stdout",
          "text": [
            "<class 'complex'> (1+2j)\n"
          ]
        }
      ],
      "source": [
        "x = 1 + 2j\n",
        "print(type(x), x)"
      ]
    },
    {
      "cell_type": "markdown",
      "metadata": {
        "id": "e16367c9"
      },
      "source": [
        "## Sequence Types"
      ]
    },
    {
      "cell_type": "markdown",
      "metadata": {
        "id": "a7b3a835"
      },
      "source": [
        "### list\n",
        "Ordered, mutable sequence (e.g., [1, 2, 3])"
      ]
    },
    {
      "cell_type": "code",
      "execution_count": null,
      "metadata": {
        "id": "f958dc35",
        "colab": {
          "base_uri": "https://localhost:8080/"
        },
        "outputId": "80f26ef0-2f75-4306-b3ff-7ce0eb22f637"
      },
      "outputs": [
        {
          "output_type": "stream",
          "name": "stdout",
          "text": [
            "<class 'list'> [1, 2, 3]\n"
          ]
        }
      ],
      "source": [
        "x = [1, 2, 3]\n",
        "print(type(x), x)"
      ]
    },
    {
      "cell_type": "markdown",
      "metadata": {
        "id": "ded2e2cf"
      },
      "source": [
        "### tuple\n",
        "Ordered, immutable sequence (e.g., (1, 2, 3))"
      ]
    },
    {
      "cell_type": "code",
      "execution_count": null,
      "metadata": {
        "id": "ed75d9a7",
        "colab": {
          "base_uri": "https://localhost:8080/"
        },
        "outputId": "90a6924c-e611-44fa-cfb5-62d8f55259cb"
      },
      "outputs": [
        {
          "output_type": "stream",
          "name": "stdout",
          "text": [
            "<class 'tuple'> (1, 2, 3)\n"
          ]
        }
      ],
      "source": [
        "x = (1, 2, 3)\n",
        "print(type(x), x)"
      ]
    },
    {
      "cell_type": "markdown",
      "metadata": {
        "id": "c99b581d"
      },
      "source": [
        "### range\n",
        "Immutable sequence of numbers (e.g., range(0, 10))"
      ]
    },
    {
      "cell_type": "code",
      "execution_count": null,
      "metadata": {
        "id": "3162e7b7",
        "colab": {
          "base_uri": "https://localhost:8080/"
        },
        "outputId": "bf861876-04d5-45dd-e527-7c1f25463fb6"
      },
      "outputs": [
        {
          "output_type": "stream",
          "name": "stdout",
          "text": [
            "<class 'range'> [0, 1, 2, 3, 4, 5, 6, 7, 8, 9]\n"
          ]
        }
      ],
      "source": [
        "x = range(0, 10)\n",
        "print(type(x), list(x))"
      ]
    },
    {
      "cell_type": "markdown",
      "metadata": {
        "id": "d13964d0"
      },
      "source": [
        "## Text Type"
      ]
    },
    {
      "cell_type": "markdown",
      "metadata": {
        "id": "557012bc"
      },
      "source": [
        "### str\n",
        "String (e.g., \"hello\", 'world')"
      ]
    },
    {
      "cell_type": "code",
      "execution_count": null,
      "metadata": {
        "id": "aad03890",
        "colab": {
          "base_uri": "https://localhost:8080/"
        },
        "outputId": "f1a3e85d-22f0-4272-e2e7-129d7b67cf76"
      },
      "outputs": [
        {
          "output_type": "stream",
          "name": "stdout",
          "text": [
            "<class 'str'> hello\n"
          ]
        }
      ],
      "source": [
        "x = 'hello'\n",
        "print(type(x), x)"
      ]
    },
    {
      "cell_type": "markdown",
      "metadata": {
        "id": "de6a9b83"
      },
      "source": [
        "## Mapping Type"
      ]
    },
    {
      "cell_type": "markdown",
      "metadata": {
        "id": "9fb40dd3"
      },
      "source": [
        "### dict\n",
        "Key-value mapping (e.g., {'key': 'value'})"
      ]
    },
    {
      "cell_type": "code",
      "execution_count": null,
      "metadata": {
        "id": "f235e8fa",
        "colab": {
          "base_uri": "https://localhost:8080/"
        },
        "outputId": "af569e65-cfec-4f49-83d9-b272ae79eff9"
      },
      "outputs": [
        {
          "output_type": "stream",
          "name": "stdout",
          "text": [
            "<class 'dict'> {'key': 'value'}\n"
          ]
        }
      ],
      "source": [
        "x = {'key': 'value'}\n",
        "print(type(x), x)"
      ]
    },
    {
      "cell_type": "markdown",
      "metadata": {
        "id": "c939cf4b"
      },
      "source": [
        "## Set Types"
      ]
    },
    {
      "cell_type": "markdown",
      "metadata": {
        "id": "2c9baecf"
      },
      "source": [
        "### set\n",
        "Unordered, mutable collection of unique elements (e.g., {1, 2, 3})"
      ]
    },
    {
      "cell_type": "code",
      "execution_count": null,
      "metadata": {
        "id": "b193b5d4",
        "colab": {
          "base_uri": "https://localhost:8080/"
        },
        "outputId": "0215d42e-1d11-49c4-86cf-652cb9c10959"
      },
      "outputs": [
        {
          "output_type": "stream",
          "name": "stdout",
          "text": [
            "<class 'set'> {1, 2, 3}\n"
          ]
        }
      ],
      "source": [
        "x = {1, 2, 3}\n",
        "print(type(x), x)"
      ]
    },
    {
      "cell_type": "markdown",
      "metadata": {
        "id": "c44d2291"
      },
      "source": [
        "### frozenset\n",
        "Unordered, immutable collection of unique elements (e.g., frozenset([1, 2, 3]))"
      ]
    },
    {
      "cell_type": "code",
      "execution_count": null,
      "metadata": {
        "id": "ba07f4ce",
        "colab": {
          "base_uri": "https://localhost:8080/"
        },
        "outputId": "92b2c4aa-7213-4ce9-b77b-c6aaf8eb28d9"
      },
      "outputs": [
        {
          "output_type": "stream",
          "name": "stdout",
          "text": [
            "<class 'frozenset'> frozenset({1, 2, 3})\n"
          ]
        }
      ],
      "source": [
        "x = frozenset([1, 2, 3])\n",
        "print(type(x), x)"
      ]
    },
    {
      "cell_type": "markdown",
      "metadata": {
        "id": "8a532bac"
      },
      "source": [
        "## Boolean Type"
      ]
    },
    {
      "cell_type": "markdown",
      "metadata": {
        "id": "d8939696"
      },
      "source": [
        "### bool\n",
        "Boolean (e.g., True, False)"
      ]
    },
    {
      "cell_type": "code",
      "execution_count": null,
      "metadata": {
        "id": "144964d7",
        "colab": {
          "base_uri": "https://localhost:8080/"
        },
        "outputId": "1baa31d3-a673-402a-dfdd-ca6ec6f797cc"
      },
      "outputs": [
        {
          "output_type": "stream",
          "name": "stdout",
          "text": [
            "<class 'bool'> True\n"
          ]
        }
      ],
      "source": [
        "x = True\n",
        "print(type(x), x)"
      ]
    },
    {
      "cell_type": "markdown",
      "metadata": {
        "id": "c87943d3"
      },
      "source": [
        "## None Type\n",
        "Represents the absence of a value (None)"
      ]
    },
    {
      "cell_type": "code",
      "execution_count": null,
      "metadata": {
        "id": "ad66314f",
        "colab": {
          "base_uri": "https://localhost:8080/"
        },
        "outputId": "de2f6297-1b11-4586-8767-7291d8673bee"
      },
      "outputs": [
        {
          "output_type": "stream",
          "name": "stdout",
          "text": [
            "<class 'NoneType'> None\n"
          ]
        }
      ],
      "source": [
        "x = None\n",
        "print(type(x), x)"
      ]
    },
    {
      "cell_type": "markdown",
      "source": [
        "# Type Conversion\n",
        "`int()`, `float()`, `str()`"
      ],
      "metadata": {
        "id": "LCpfI2yBg0MO"
      }
    },
    {
      "cell_type": "code",
      "source": [
        "number_str = '123'\n",
        "integer = int(number_str)  # 123\n",
        "floating_point = float(number_str)  # 123.0\n",
        "stringified = str(integer)  # '123'"
      ],
      "metadata": {
        "id": "51c5OaOygzlc"
      },
      "execution_count": null,
      "outputs": []
    },
    {
      "cell_type": "markdown",
      "metadata": {
        "id": "c61Vu2I3f8YA"
      },
      "source": [
        "# String Operations (Basic)"
      ]
    },
    {
      "cell_type": "markdown",
      "source": [
        "## 1. Concatenation\n",
        "Joining two or more strings together."
      ],
      "metadata": {
        "id": "pt3ci4Rkd-hA"
      }
    },
    {
      "cell_type": "code",
      "source": [
        "string1 = 'Hello'\n",
        "string2 = 'World'\n",
        "concatenated_string = string1 + ' ' + string2  # 'Hello World'"
      ],
      "metadata": {
        "id": "K-zvzATseFoP"
      },
      "execution_count": null,
      "outputs": []
    },
    {
      "cell_type": "markdown",
      "source": [
        "## 2. Repetition\n",
        "Repeating a string multiple times."
      ],
      "metadata": {
        "id": "cR7MZ5QfeHUM"
      }
    },
    {
      "cell_type": "code",
      "source": [
        "print(\"Hello World \" * 3)"
      ],
      "metadata": {
        "colab": {
          "base_uri": "https://localhost:8080/"
        },
        "id": "Z5FTfHMmeMZO",
        "outputId": "a7f20d42-ada0-4c72-c03d-920ce13446df"
      },
      "execution_count": null,
      "outputs": [
        {
          "output_type": "stream",
          "name": "stdout",
          "text": [
            "Hello World Hello World Hello World \n"
          ]
        }
      ]
    },
    {
      "cell_type": "markdown",
      "source": [
        "## 3. Slicing\n",
        "Extracting a portion of a string."
      ],
      "metadata": {
        "id": "f_ifXCgYeXUe"
      }
    },
    {
      "cell_type": "code",
      "metadata": {
        "id": "PY6v0Jf5gdbE",
        "colab": {
          "base_uri": "https://localhost:8080/"
        },
        "outputId": "ac2f9e5d-4c44-4561-fbdd-343dfab783fd"
      },
      "source": [
        "course = 'Computer Science'\n",
        "print(course[0:6])\n",
        "print(course[5:])\n",
        "print(course[:8])"
      ],
      "execution_count": null,
      "outputs": [
        {
          "output_type": "stream",
          "name": "stdout",
          "text": [
            "Comput\n",
            "ter Science\n",
            "Computer\n"
          ]
        }
      ]
    },
    {
      "cell_type": "markdown",
      "source": [
        "## 4. Indexing\n",
        "Accessing individual characters of a string."
      ],
      "metadata": {
        "id": "a1jIYR6cehVL"
      }
    },
    {
      "cell_type": "code",
      "metadata": {
        "id": "xRDJWljGgCa1",
        "colab": {
          "base_uri": "https://localhost:8080/"
        },
        "outputId": "a6f9794a-55d5-49f5-ddc1-ffc950788b29"
      },
      "source": [
        "course = 'Computer Science'\n",
        "print(course[4])\n",
        "print(course[-1])\n",
        "print(course[-2])"
      ],
      "execution_count": null,
      "outputs": [
        {
          "output_type": "stream",
          "name": "stdout",
          "text": [
            "u\n",
            "e\n",
            "c\n"
          ]
        }
      ]
    },
    {
      "cell_type": "markdown",
      "source": [
        "# String Methods"
      ],
      "metadata": {
        "id": "zZRdSgynhVxA"
      }
    },
    {
      "cell_type": "markdown",
      "source": [
        "## 1. Case Conversion\n",
        "`upper()`, `lower()`, `capitalize()`"
      ],
      "metadata": {
        "id": "CtEv03b8e2b2"
      }
    },
    {
      "cell_type": "code",
      "metadata": {
        "id": "Q-XiZcD7ijJU"
      },
      "source": [
        "string = 'python'\n",
        "upper_case = string.upper()  # 'PYTHON'\n",
        "lower_case = string.lower()  # 'python'\n",
        "capitalized = string.capitalize()  # 'Python'"
      ],
      "execution_count": null,
      "outputs": []
    },
    {
      "cell_type": "markdown",
      "source": [
        "## 2. Searching\n",
        "`find()`, `index()`, `count()`"
      ],
      "metadata": {
        "id": "FWkm5VAcfHRk"
      }
    },
    {
      "cell_type": "code",
      "metadata": {
        "id": "hFBiT7tri-gA"
      },
      "source": [
        "string = 'apple'\n",
        "position = string.find('p')  # 1\n",
        "index = string.index('p')  # 1\n",
        "count = string.count('p')  # 2"
      ],
      "execution_count": null,
      "outputs": []
    },
    {
      "cell_type": "markdown",
      "source": [
        "## 3. Replacing\n",
        "`replace()`, `swapcase()`"
      ],
      "metadata": {
        "id": "bzJeWr8vfZIb"
      }
    },
    {
      "cell_type": "code",
      "metadata": {
        "id": "nTV-T4ozjcXq"
      },
      "source": [
        "string = 'apple'\n",
        "replaced_string = string.replace('a', 'A')  # 'Apple'\n",
        "swapped_string = string.swapcase()  # 'APPLE'"
      ],
      "execution_count": null,
      "outputs": []
    },
    {
      "cell_type": "markdown",
      "source": [
        "## 4. Trimming\n",
        "`strip()`, `rstrip()`, `lstrip()`"
      ],
      "metadata": {
        "id": "-7IQgf9OfhQs"
      }
    },
    {
      "cell_type": "code",
      "source": [
        "string = '  apple  '\n",
        "stripped_string = string.strip()  # 'apple'\n",
        "rstripped_string = string.rstrip()  # '  apple'\n",
        "lstripped_string = string.lstrip()  # 'apple  '"
      ],
      "metadata": {
        "id": "a0IVuimGftMI"
      },
      "execution_count": null,
      "outputs": []
    },
    {
      "cell_type": "markdown",
      "source": [
        "## 5. Splitting & Joining\n",
        "`split()`, `splitlines()`, `join()`"
      ],
      "metadata": {
        "id": "aHvNaygyf4Yl"
      }
    },
    {
      "cell_type": "code",
      "source": [
        "string = 'apple,banana,orange'\n",
        "split_string = string.split(',')  # ['apple', 'banana', 'orange']\n",
        "joined_string = '-'.join(split_string)  # 'apple-banana-orange'"
      ],
      "metadata": {
        "id": "PUskkYfNVG_C"
      },
      "execution_count": null,
      "outputs": []
    },
    {
      "cell_type": "markdown",
      "source": [
        "## 6. Formatting\n",
        "`format()`, f-strings"
      ],
      "metadata": {
        "id": "T4tMZUGCgNKq"
      }
    },
    {
      "cell_type": "code",
      "source": [
        "name = 'John'\n",
        "formatted_string = 'Hello, {}'.format(name)  # 'Hello, John'\n",
        "fstring_example = f'Hello, {name}'  # 'Hello, John'"
      ],
      "metadata": {
        "id": "6fA79F5kgMgu"
      },
      "execution_count": null,
      "outputs": []
    },
    {
      "cell_type": "markdown",
      "source": [
        "## 7. Length\n",
        "length of the string"
      ],
      "metadata": {
        "id": "V-BnWa4sgVht"
      }
    },
    {
      "cell_type": "code",
      "metadata": {
        "id": "r7G1zRGeib9o",
        "colab": {
          "base_uri": "https://localhost:8080/"
        },
        "outputId": "e05b316a-73b0-4946-e19e-aea996070cc9"
      },
      "source": [
        "course = 'Computer Science'\n",
        "print(len(course))"
      ],
      "execution_count": null,
      "outputs": [
        {
          "output_type": "stream",
          "name": "stdout",
          "text": [
            "16\n"
          ]
        }
      ]
    },
    {
      "cell_type": "markdown",
      "metadata": {
        "id": "Y9irwW8QkNoE"
      },
      "source": [
        "#Arithmetic Operations\n",
        "Operators perform operations on variables. Python has arithmetic, comparison, and logical operators."
      ]
    },
    {
      "cell_type": "code",
      "metadata": {
        "id": "S8W41jvNkSZu",
        "colab": {
          "base_uri": "https://localhost:8080/"
        },
        "outputId": "c156993f-e650-46de-c7e1-d51594868a4c"
      },
      "source": [
        "print(10+3) #Addition\n",
        "print(10-3) #Subtraction\n",
        "print(10*3) #multiplication\n",
        "print(10/3) #Division\n",
        "print(10//3) #Integer Division\n",
        "print(10%3)  #Modulus\n",
        "print(20**4) #Exponent"
      ],
      "execution_count": null,
      "outputs": [
        {
          "output_type": "stream",
          "name": "stdout",
          "text": [
            "13\n",
            "7\n",
            "30\n",
            "3.3333333333333335\n",
            "3\n",
            "1\n",
            "160000\n"
          ]
        }
      ]
    },
    {
      "cell_type": "code",
      "metadata": {
        "id": "N45QMfUClKsH",
        "colab": {
          "base_uri": "https://localhost:8080/"
        },
        "outputId": "85b4e8c3-87de-4f93-afc3-c71058a26757"
      },
      "source": [
        "x=10\n",
        "x+=1 #x=x+3 (Addition Assignment Operator)\n",
        "print(x)"
      ],
      "execution_count": null,
      "outputs": [
        {
          "output_type": "stream",
          "name": "stdout",
          "text": [
            "11\n"
          ]
        }
      ]
    },
    {
      "cell_type": "code",
      "source": [
        "x=10\n",
        "x-=3 #x=x-3 (Subtraction Assignment Operator)\n",
        "print(x)"
      ],
      "metadata": {
        "colab": {
          "base_uri": "https://localhost:8080/"
        },
        "id": "EPL6wE3TUjXJ",
        "outputId": "a59a7af6-0116-47c7-c76a-6105d2b8ddde"
      },
      "execution_count": null,
      "outputs": [
        {
          "output_type": "stream",
          "name": "stdout",
          "text": [
            "7\n"
          ]
        }
      ]
    },
    {
      "cell_type": "markdown",
      "metadata": {
        "id": "ZS5_7QNwm61L"
      },
      "source": [
        "## Math Functions"
      ]
    },
    {
      "cell_type": "code",
      "metadata": {
        "id": "tNWb_0yLnAEB",
        "colab": {
          "base_uri": "https://localhost:8080/"
        },
        "outputId": "61d5db6e-c7b2-4c33-fd88-07e8b09dbeff"
      },
      "source": [
        "print(round(2.4))\n",
        "print(abs(-2.9))"
      ],
      "execution_count": null,
      "outputs": [
        {
          "output_type": "stream",
          "name": "stdout",
          "text": [
            "2\n",
            "2.9\n"
          ]
        }
      ]
    },
    {
      "cell_type": "markdown",
      "metadata": {
        "id": "QG98aoRuomY9"
      },
      "source": [
        "## Conditional Statements\n",
        "Conditional statements control the flow of your program. They include `if`, `elif`, and `else`."
      ]
    },
    {
      "cell_type": "code",
      "metadata": {
        "id": "JV1EeIM0jwfx",
        "colab": {
          "base_uri": "https://localhost:8080/"
        },
        "outputId": "607e3f72-d989-4d51-9227-01c17115e5b2"
      },
      "source": [
        "# 'in' keyword used to value in list\n",
        "course = 'Computer Science'\n",
        "print('z' in course)"
      ],
      "execution_count": null,
      "outputs": [
        {
          "output_type": "stream",
          "name": "stdout",
          "text": [
            "False\n"
          ]
        }
      ]
    },
    {
      "cell_type": "code",
      "metadata": {
        "id": "HmX6SyDWoq6m",
        "colab": {
          "base_uri": "https://localhost:8080/"
        },
        "outputId": "59924cf5-2524-4f76-9485-472ec5cdff9f"
      },
      "source": [
        "is_hot = False\n",
        "is_cold = True\n",
        "x = 5\n",
        "\n",
        "if is_hot:\n",
        "    print(\"It's a hot day. Drink plenty of water.\")\n",
        "elif x == 6:\n",
        "    print(\"It's a cold day. Wear warm clothes.\")\n",
        "else:\n",
        "    print(\"It's your lovely day.\")"
      ],
      "execution_count": null,
      "outputs": [
        {
          "output_type": "stream",
          "name": "stdout",
          "text": [
            "It's your lovely day.\n"
          ]
        }
      ]
    },
    {
      "cell_type": "markdown",
      "metadata": {
        "id": "ZrKTXgEEp8lA"
      },
      "source": [
        "## Logical Operator"
      ]
    },
    {
      "cell_type": "code",
      "source": [
        "# Initialize some example variables\n",
        "a = 10\n",
        "b = 20\n",
        "c = 10\n",
        "\n",
        "# Using 'and' operator\n",
        "result_and = (a == c) and (a < b)  # True AND True = True\n",
        "\n",
        "# Using 'or' operator\n",
        "result_or = (a == b) or (a == c)  # False OR True = True\n",
        "\n",
        "# Using 'not' operator\n",
        "result_not = not (a == b)  # NOT False = True\n",
        "\n",
        "# Using '!=' operator\n",
        "result_not_equal = a != b  # True because 10 is not equal to 20\n",
        "\n",
        "# Using '==' operator\n",
        "result_equal = a == c  # True because 10 is equal to 10\n",
        "\n",
        "# Using '>' operator\n",
        "result_greater = a > b  # False because 10 is not greater than 20\n",
        "\n",
        "# Using '>=' operator\n",
        "result_greater_equal = a >= c  # True because 10 is greater than or equal to 10\n",
        "\n",
        "# Using '<' operator\n",
        "result_less = a < b  # True because 10 is less than 20\n",
        "\n",
        "# Using '<=' operator\n",
        "result_less_equal = a <= c  # True because 10 is less than or equal to 10\n",
        "\n",
        "result_and, result_or, result_not, result_not_equal, result_equal, result_greater, result_greater_equal, result_less, result_less_equal"
      ],
      "metadata": {
        "colab": {
          "base_uri": "https://localhost:8080/"
        },
        "id": "aaBMmLYmjDmm",
        "outputId": "04772a29-c372-41d6-8db4-b81ea87aa3c1"
      },
      "execution_count": null,
      "outputs": [
        {
          "output_type": "execute_result",
          "data": {
            "text/plain": [
              "(True, True, True, True, True, False, True, True, True)"
            ]
          },
          "metadata": {},
          "execution_count": 34
        }
      ]
    },
    {
      "cell_type": "markdown",
      "metadata": {
        "id": "df1YEP-LsXgF"
      },
      "source": [
        "## While Conditional Loops\n",
        "Loops are used for repetitive tasks. Python has `for` and `while` loops."
      ]
    },
    {
      "cell_type": "code",
      "metadata": {
        "id": "xMmRersJseXI",
        "colab": {
          "base_uri": "https://localhost:8080/"
        },
        "outputId": "88c6ad6c-4cf5-410a-f7cb-90fcee9ed597"
      },
      "source": [
        "i=1\n",
        "while i<=5:\n",
        "  print(i)\n",
        "  i=i+1"
      ],
      "execution_count": null,
      "outputs": [
        {
          "output_type": "stream",
          "name": "stdout",
          "text": [
            "1\n",
            "2\n",
            "3\n",
            "4\n",
            "5\n"
          ]
        }
      ]
    },
    {
      "cell_type": "markdown",
      "metadata": {
        "id": "917n4wv_f16H"
      },
      "source": [
        "## For Loops"
      ]
    },
    {
      "cell_type": "code",
      "metadata": {
        "id": "6u3RblYNf6JC",
        "colab": {
          "base_uri": "https://localhost:8080/"
        },
        "outputId": "6317f0cb-c3c0-4e99-ede9-c175f7f4c208"
      },
      "source": [
        "for item in 'Python':\n",
        "  print(item)"
      ],
      "execution_count": null,
      "outputs": [
        {
          "output_type": "stream",
          "name": "stdout",
          "text": [
            "P\n",
            "y\n",
            "t\n",
            "h\n",
            "o\n",
            "n\n"
          ]
        }
      ]
    },
    {
      "cell_type": "code",
      "source": [
        "for item in ['Python','Java','Node']:\n",
        "  print(item)"
      ],
      "metadata": {
        "colab": {
          "base_uri": "https://localhost:8080/"
        },
        "id": "qEJl2zPdkyJv",
        "outputId": "a77b2921-9de4-4fb2-ee8e-5fb205f662bc"
      },
      "execution_count": null,
      "outputs": [
        {
          "output_type": "stream",
          "name": "stdout",
          "text": [
            "Python\n",
            "Java\n",
            "Node\n"
          ]
        }
      ]
    },
    {
      "cell_type": "code",
      "metadata": {
        "id": "4HfTCAaRgeHj",
        "colab": {
          "base_uri": "https://localhost:8080/"
        },
        "outputId": "88eaaf6b-881c-4269-acd2-5e7e1fb8093c"
      },
      "source": [
        "for item in range(5):\n",
        "  print(item)"
      ],
      "execution_count": null,
      "outputs": [
        {
          "output_type": "stream",
          "name": "stdout",
          "text": [
            "0\n",
            "1\n",
            "2\n",
            "3\n",
            "4\n"
          ]
        }
      ]
    },
    {
      "cell_type": "markdown",
      "metadata": {
        "id": "dXAz-RXA17jz"
      },
      "source": [
        "## Function\n",
        "Functions encapsulate code into reusable blocks. They can have parameters and return values."
      ]
    },
    {
      "cell_type": "code",
      "metadata": {
        "id": "n2uv7P5R2AYj",
        "colab": {
          "base_uri": "https://localhost:8080/"
        },
        "outputId": "5745432e-558c-4cab-dbd6-dd1421dfa3e2"
      },
      "source": [
        "def sum(a,b):\n",
        "  c=a+b;\n",
        "  return c\n",
        "sum(10,2)"
      ],
      "execution_count": null,
      "outputs": [
        {
          "output_type": "execute_result",
          "data": {
            "text/plain": [
              "12"
            ]
          },
          "metadata": {},
          "execution_count": 38
        }
      ]
    }
  ]
}